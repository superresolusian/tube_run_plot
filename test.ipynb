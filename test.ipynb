{
 "cells": [
  {
   "cell_type": "code",
   "execution_count": 5,
   "id": "c3d628be",
   "metadata": {},
   "outputs": [],
   "source": [
    "import requests\n",
    "import urllib3"
   ]
  },
  {
   "cell_type": "code",
   "execution_count": 9,
   "id": "aed716f3",
   "metadata": {},
   "outputs": [
    {
     "name": "stdout",
     "output_type": "stream",
     "text": [
      "Requesting Token...\n",
      "\n",
      "11e8a1d7fc30bc0d98e9662d6363d18c70c15f26\n"
     ]
    },
    {
     "name": "stderr",
     "output_type": "stream",
     "text": [
      "/Users/sianculley/miniforge3/envs/strava/lib/python3.8/site-packages/urllib3/connectionpool.py:1043: InsecureRequestWarning: Unverified HTTPS request is being made to host 'www.strava.com'. Adding certificate verification is strongly advised. See: https://urllib3.readthedocs.io/en/1.26.x/advanced-usage.html#ssl-warnings\n",
      "  warnings.warn(\n"
     ]
    }
   ],
   "source": [
    "auth_url = \"https://www.strava.com/oauth/token\"\n",
    "payload = {\n",
    "    'client_id': '92992',\n",
    "    'client_secret': 'e2053017c528bc1fcf61a4a49bb3fbf58a1d5481',\n",
    "    'refresh_token': 'dd2bdb77055d3ada291c9c88b1e3e0a7e8d193d3',\n",
    "    'grant_type': 'refresh_token',\n",
    "    'f': 'json'\n",
    "}\n",
    "\n",
    "print('Requesting Token...\\n')\n",
    "res = requests.post(auth_url, data=payload, verify=False)\n",
    "access_token = res.json()['access_token']\n",
    "print(access_token)"
   ]
  },
  {
   "cell_type": "code",
   "execution_count": 19,
   "id": "503b0329",
   "metadata": {},
   "outputs": [],
   "source": [
    "activities_url = \"https://www.strava.com/api/v3/athlete/activities\"\n",
    "\n",
    "header = {'Authorization': 'Bearer '+ access_token}\n",
    "param = {'per_page':200, 'page':1}\n",
    "my_dataset = requests.get(activities_url, headers=header, params=param).json()"
   ]
  },
  {
   "cell_type": "code",
   "execution_count": 25,
   "id": "555cb145",
   "metadata": {},
   "outputs": [],
   "source": [
    "runs = []\n",
    "for data in my_dataset:\n",
    "    if data['type']=='Run':\n",
    "        runs.append(data)"
   ]
  },
  {
   "cell_type": "code",
   "execution_count": 71,
   "id": "5c338bb2",
   "metadata": {},
   "outputs": [],
   "source": [
    "polyline_croy = my_dataset[0]['map']['summary_polyline']\n",
    "polyline_tower = my_dataset[1]['map']['summary_polyline']\n",
    "polyline_wand = my_dataset[2]['map']['summary_polyline']\n",
    "polyline_ktw = my_dataset[3]['map']['summary_polyline']\n",
    "polyline_gallion = my_dataset[4]['map']['summary_polyline']"
   ]
  },
  {
   "cell_type": "code",
   "execution_count": 66,
   "id": "23244dd9",
   "metadata": {},
   "outputs": [],
   "source": [
    "import polyline"
   ]
  },
  {
   "cell_type": "code",
   "execution_count": 72,
   "id": "a69231b7",
   "metadata": {},
   "outputs": [],
   "source": [
    "coords_croy = polyline.decode(polyline_croy)\n",
    "coords_tower = polyline.decode(polyline_tower)\n",
    "coords_wand = polyline.decode(polyline_wand)\n",
    "coords_ktw = polyline.decode(polyline_ktw)\n",
    "coords_gallion = polyline.decode(polyline_gallion)"
   ]
  },
  {
   "cell_type": "code",
   "execution_count": 50,
   "id": "23872ad4",
   "metadata": {},
   "outputs": [],
   "source": [
    "import matplotlib.pyplot as plt"
   ]
  },
  {
   "cell_type": "code",
   "execution_count": 73,
   "id": "4fd74199",
   "metadata": {},
   "outputs": [],
   "source": [
    "long_croy = [i[0] for i in coords_croy]\n",
    "lat_croy = [i[1] for i in coords_croy]\n",
    "long_tower = [i[0] for i in coords_tower]\n",
    "lat_tower = [i[1] for i in coords_tower]\n",
    "long_wand = [i[0] for i in coords_wand]\n",
    "lat_wand = [i[1] for i in coords_wand]\n",
    "long_ktw = [i[0] for i in coords_ktw]\n",
    "lat_ktw = [i[1] for i in coords_ktw]\n",
    "long_gallion = [i[0] for i in coords_gallion]\n",
    "lat_gallion = [i[1] for i in coords_gallion]"
   ]
  },
  {
   "cell_type": "code",
   "execution_count": 80,
   "id": "256e3cbd",
   "metadata": {},
   "outputs": [
    {
     "data": {
      "text/plain": [
       "[<matplotlib.lines.Line2D at 0x127401610>]"
      ]
     },
     "execution_count": 80,
     "metadata": {},
     "output_type": "execute_result"
    },
    {
     "data": {
      "image/png": "[encoded data removed]",
      "text/plain": [
       "<Figure size 432x288 with 1 Axes>"
      ]
     },
     "metadata": {
      "needs_background": "light"
     },
     "output_type": "display_data"
    }
   ],
   "source": [
    "plt.plot(lat_croy, long_croy, color='orange', lw=3, alpha=0.5)\n",
    "plt.plot(lat_tower, long_tower, color='cyan', lw=3, alpha=0.5)\n",
    "plt.plot(lat_wand, long_wand, color='orange', lw=3, alpha=0.5)\n",
    "plt.plot(lat_ktw, long_ktw, color='orange', lw=3, alpha=0.5)\n",
    "plt.plot(lat_gallion, long_gallion, color='cyan', lw=3, alpha=0.5)"
   ]
  },
  {
   "cell_type": "code",
   "execution_count": 85,
   "id": "72b6522b",
   "metadata": {},
   "outputs": [
    {
     "data": {
      "text/plain": [
       "(51.53571, -0.18145)"
      ]
     },
     "execution_count": 85,
     "metadata": {},
     "output_type": "execute_result"
    }
   ],
   "source": [
    "coords_croy[0]"
   ]
  },
  {
   "cell_type": "code",
   "execution_count": 86,
   "id": "9598fcf5",
   "metadata": {},
   "outputs": [],
   "source": [
    "def get_ll(index):\n",
    "    pl = my_dataset[index]['map']['summary_polyline']\n",
    "    coords = polyline.decode(pl)\n",
    "    long = [51.539519]\n",
    "    lat = [-0.182089]\n",
    "    for i in coords:\n",
    "        long.append(i[0])\n",
    "        lat.append(i[1])\n",
    "    return lat, long"
   ]
  },
  {
   "cell_type": "code",
   "execution_count": 120,
   "id": "fb94394e",
   "metadata": {},
   "outputs": [
    {
     "name": "stdout",
     "output_type": "stream",
     "text": [
      "9 BAKER STREET. DONE.\n",
      "10 elm park (last of the long ones. only one station left!! fuck!!!)\n",
      "11 west ken to work\n",
      "12 west kensington (only 2 to go!!)\n",
      "13 woodford (central line done! zone 4 done! only 3 left to go!!)\n",
      "14 heathrow terminal 5 (what better way to spend a day off work? piccadilly line done!)\n",
      "15 epping (was this run a good idea two days after getting hit by a car? absolutely not)\n",
      "22 chalfont & latimer (awful end of the metropolitan line COMPLETED. i am so glad i never have to run out there again 💕)\n",
      "33 upminster bridge (too hot, too far, too upminster)\n",
      "34 hainault (hainault, hainault, don't dreeeeam it's overrrr)\n",
      "39 north greenwich (apparently pain-free, fingers crossed)\n",
      "44 swiss cottage (testing out increasingly injured leg on way to cricket)\n",
      "61 heathrow terminal 4 (hottest day of year so far 🤝 running to heathrow 🤝 sore shin 🤝 not incredible ideas)\n",
      "71 northwood (crowbarred into parent-caring schedule. gained inexplicable and incredibly painful shin injury. shinjury.)\n",
      "75 Afternoon Run\n",
      "76 wood green (still the most chaotic part of london)\n",
      "77 putney bridge (birthday card mission and on to football)\n",
      "78 edinburgh marathon (nae bad!)\n",
      "79 finchley road (after a period of football-based absence)\n",
      "89 east putney (and on to beatrix and amanda's for a lift to football ✌️)\n",
      "93 stepney green (still. no. ducklings. 😡)\n",
      "94 loughton (this was meant to be epping, but it turned out that google wanted me to run along a footpathless main road 😑)\n",
      "95 becontree (let's be honest here, unreasonably long for a school night)\n",
      "99 baron's court (only 20 more tubes to go!!)\n",
      "100 barkingside (the approach to this station looked alarmingly familiar and i was convinced i'd already done it)\n",
      "103 bermondsey (tube number 250!!)\n",
      "111 canning town (no ducklings yet, but affirmative on coot babies and goose babies)\n",
      "112 west hampstead (mopped up on the way to cricket)\n",
      "113 northwood hills (celebrating play-off glory)\n",
      "114 blackfriars (we're back!friars)\n",
      "117 wiggle round manhattan\n",
      "118 took the boy out for a morning run 🗽\n",
      "119 upminster (genuinely outraged at how ugly this station is)\n",
      "120 richmond (glorious weather)\n",
      "121 chigwell (getting chiggy with it)\n",
      "122 shepherd's bush market (can't believe i didn't laugh at 'bush' when i did shepherd's bush tube)\n",
      "128 dagenham heathway (completing a weekend iconic non-league football double of dagenham & redbridge)\n",
      "129 redbridge (going out for a run before 9am on a saturday, who even am i any more)\n",
      "132 bow road (lil bow wow)\n",
      "138 chesham (my everest)\n",
      "139 west brompton (west brrrrr-ompton)\n",
      "149 hammersmith 2 (hammer time)\n",
      "150 mile end (several miles end if we're being accurate i guess)\n",
      "156 maida vale (lunchtime sunshine!)\n",
      "157 amersham (was this a huge mistake doing this two days after giving blood? YES. was this a huge mistake full stop? OF COURSE. am i looking forward to amersham's bedfellows, chesham and chalfont & latimer? ARE YOU INSANE.)\n",
      "158 ealing common (mini one before attempting some horror tomorrow 🤞)\n",
      "166 highgate (northern line complete!)\n",
      "167 wimbledon park (blisters 😭😭😭)\n",
      "168 newbury park (the prettiness of wanstead flats followed by the bleakness of the a12)\n",
      "178 hanger lane (normal service resumed. yeah that's creative use of the word normal i know)\n",
      "179 impromptu visit to another german river\n",
      "180 Night Run\n",
      "181 Evening Run\n",
      "182 apparently this trail is called \"philosophenweg\". cogito ergo run, i guess\n",
      "183 one to file in \"scenic runs along german rivers\"\n",
      "184 running to...badminton?!\n",
      "185 theydon bois (hello bois)\n",
      "186 totteridge & whetstone (avoided the rain so ironically actually a total lack of wet stone)\n",
      "191 stamford brook (🎵stamford brook, stamford brook, the brook of love🎵 - to the tune of the look of love by abc. running low on tubes for a valentine's day pun. we're going to have to deal with it.)\n",
      "194 ruislip gardens (ruislips accomplished)\n",
      "195 chalk farm (chalked off)\n"
     ]
    }
   ],
   "source": [
    "for i in range(9,200):\n",
    "    if my_dataset[i]['type']!='Run':\n",
    "        continue\n",
    "    print(i, my_dataset[i]['name'])"
   ]
  },
  {
   "cell_type": "code",
   "execution_count": 151,
   "id": "83dfbad4",
   "metadata": {},
   "outputs": [
    {
     "data": {
      "text/plain": [
       "[<matplotlib.lines.Line2D at 0x2870874c0>]"
      ]
     },
     "execution_count": 151,
     "metadata": {},
     "output_type": "execute_result"
    },
    {
     "data": {
      "image/png": "[encoded data removed]",
      "text/plain": [
       "<Figure size 432x288 with 1 Axes>"
      ]
     },
     "metadata": {
      "needs_background": "light"
     },
     "output_type": "display_data"
    }
   ],
   "source": [
    "alpha = 0.4\n",
    "lw = 1\n",
    "plt.plot(get_ll(9)[0], get_ll(9)[1], color='brown', lw=lw, alpha=alpha)\n",
    "plt.plot(get_ll(10)[0], get_ll(10)[1], color='green', lw=lw, alpha=alpha)\n",
    "plt.plot(get_ll(12)[0], get_ll(12)[1], color='green', lw=lw, alpha=alpha)\n",
    "plt.plot(get_ll(13)[0], get_ll(13)[1], color='red', lw=lw, alpha=alpha)\n",
    "plt.plot(get_ll(14)[0], get_ll(14)[1], color='navy', lw=lw, alpha=alpha)\n",
    "plt.plot(get_ll(15)[0], get_ll(15)[1], color='red', lw=lw, alpha=alpha)\n",
    "plt.plot(get_ll(22)[0], get_ll(22)[1], color='purple', lw=lw, alpha=alpha)\n",
    "plt.plot(get_ll(33)[0], get_ll(33)[1], color='green', lw=lw, alpha=alpha)\n",
    "plt.plot(get_ll(34)[0], get_ll(34)[1], color='red', lw=lw, alpha=alpha)\n",
    "plt.plot(get_ll(39)[0], get_ll(39)[1], color='gray', lw=lw, alpha=alpha)\n",
    "plt.plot(get_ll(44)[0], get_ll(44)[1], color='gray', lw=lw, alpha=alpha)\n",
    "plt.plot(get_ll(61)[0], get_ll(61)[1], color='navy', lw=lw, alpha=alpha)\n",
    "plt.plot(get_ll(71)[0], get_ll(71)[1], color='purple', lw=lw, alpha=alpha)\n",
    "plt.plot(get_ll(76)[0], get_ll(76)[1], color='navy', lw=lw, alpha=alpha)\n",
    "plt.plot(get_ll(77)[0], get_ll(77)[1], color='green', lw=lw, alpha=alpha)\n",
    "plt.plot(get_ll(79)[0], get_ll(79)[1], color='grey', lw=lw, alpha=alpha)\n",
    "plt.plot(get_ll(89)[0], get_ll(89)[1], color='green', lw=lw, alpha=alpha)\n",
    "plt.plot(get_ll(93)[0], get_ll(93)[1], color='pink', lw=lw, alpha=alpha)\n",
    "plt.plot(get_ll(94)[0], get_ll(94)[1], color='red', lw=lw, alpha=alpha)\n",
    "plt.plot(get_ll(95)[0], get_ll(95)[1], color='green', lw=lw, alpha=alpha)\n",
    "plt.plot(get_ll(99)[0], get_ll(99)[1], color='green', lw=lw, alpha=alpha)\n",
    "plt.plot(get_ll(100)[0], get_ll(100)[1], color='red', lw=lw, alpha=alpha)\n",
    "plt.plot(get_ll(103)[0], get_ll(103)[1], color='grey', lw=lw, alpha=alpha)\n",
    "plt.plot(get_ll(111)[0], get_ll(111)[1], color='grey', lw=lw, alpha=alpha)\n",
    "plt.plot(get_ll(112)[0], get_ll(112)[1], color='grey', lw=lw, alpha=alpha)\n",
    "plt.plot(get_ll(113)[0], get_ll(113)[1], color='purple', lw=lw, alpha=alpha)\n",
    "plt.plot(get_ll(114)[0], get_ll(114)[1], color='yellow', lw=lw, alpha=alpha)\n",
    "plt.plot(get_ll(119)[0], get_ll(119)[1], color='green', lw=lw, alpha=alpha)\n",
    "plt.plot(get_ll(120)[0], get_ll(120)[1], color='green', lw=lw, alpha=alpha)\n",
    "plt.plot(get_ll(121)[0], get_ll(121)[1], color='red', lw=lw, alpha=alpha)\n",
    "plt.plot(get_ll(122)[0], get_ll(122)[1], color='pink', lw=lw, alpha=alpha)\n",
    "plt.plot(get_ll(128)[0], get_ll(128)[1], color='green', lw=lw, alpha=alpha)\n",
    "plt.plot(get_ll(129)[0], get_ll(129)[1], color='red', lw=lw, alpha=alpha)\n",
    "plt.plot(get_ll(132)[0], get_ll(132)[1], color='pink', lw=lw, alpha=alpha)\n",
    "plt.plot(get_ll(138)[0], get_ll(138)[1], color='purple', lw=lw, alpha=alpha)\n",
    "plt.plot(get_ll(139)[0], get_ll(139)[1], color='green', lw=lw, alpha=alpha)\n",
    "plt.plot(get_ll(149)[0], get_ll(149)[1], color='yellow', lw=lw, alpha=alpha)\n",
    "plt.plot(get_ll(150)[0], get_ll(150)[1], color='pink', lw=lw, alpha=alpha)\n",
    "plt.plot(get_ll(156)[0], get_ll(156)[1], color='brown', lw=lw, alpha=alpha)\n",
    "plt.plot(get_ll(157)[0], get_ll(157)[1], color='purple', lw=lw, alpha=alpha)\n",
    "plt.plot(get_ll(158)[0], get_ll(158)[1], color='navy', lw=lw, alpha=alpha)\n",
    "plt.plot(get_ll(157)[0], get_ll(157)[1], color='purple', lw=lw, alpha=alpha)\n",
    "plt.plot(get_ll(166)[0], get_ll(166)[1], color='black', lw=lw, alpha=alpha)\n",
    "plt.plot(get_ll(167)[0], get_ll(167)[1], color='green', lw=lw, alpha=alpha)\n",
    "plt.plot(get_ll(168)[0], get_ll(168)[1], color='red', lw=lw, alpha=alpha)\n",
    "plt.plot(get_ll(178)[0], get_ll(178)[1], color='red', lw=lw, alpha=alpha)\n",
    "plt.plot(get_ll(185)[0], get_ll(185)[1], color='red', lw=lw, alpha=alpha)\n",
    "plt.plot(get_ll(186)[0], get_ll(186)[1], color='black', lw=lw, alpha=alpha)\n",
    "plt.plot(get_ll(191)[0], get_ll(191)[1], color='green', lw=lw, alpha=alpha)\n",
    "plt.plot(get_ll(194)[0], get_ll(194)[1], color='red', lw=lw, alpha=alpha)\n",
    "plt.plot(get_ll(195)[0], get_ll(195)[1], color='black', lw=lw, alpha=alpha)\n",
    "\n"
   ]
  },
  {
   "cell_type": "code",
   "execution_count": null,
   "id": "41cdef5c",
   "metadata": {},
   "outputs": [],
   "source": []
  }
 ],
 "metadata": {
  "kernelspec": {
   "display_name": "Python 3 (ipykernel)",
   "language": "python",
   "name": "python3"
  },
  "language_info": {
   "codemirror_mode": {
    "name": "ipython",
    "version": 3
   },
   "file_extension": ".py",
   "mimetype": "text/x-python",
   "name": "python",
   "nbconvert_exporter": "python",
   "pygments_lexer": "ipython3",
   "version": "3.8.13"
  }
 },
 "nbformat": 4,
 "nbformat_minor": 5
}
